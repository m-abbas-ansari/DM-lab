{
  "nbformat": 4,
  "nbformat_minor": 0,
  "metadata": {
    "colab": {
      "provenance": []
    },
    "kernelspec": {
      "name": "python3",
      "display_name": "Python 3"
    },
    "language_info": {
      "name": "python"
    }
  },
  "cells": [
    {
      "cell_type": "code",
      "execution_count": null,
      "metadata": {
        "id": "l7GwFfD73dZl"
      },
      "outputs": [],
      "source": [
        "import numpy as np\n",
        "import re"
      ]
    },
    {
      "cell_type": "code",
      "source": [
        "# Creating Domain Question and Answers\n",
        "\n",
        "database = [\n",
        "    (\"What are the courses run by JMI?\", \"JMI runs the courses of BTech, MTech, MBA, etc.\"),\n",
        "    (\"Where is JMI located?\", \"JMI is located in Jamia Nagar, New Delhi.\")\n",
        "]"
      ],
      "metadata": {
        "id": "sPJaIFwe38HO"
      },
      "execution_count": null,
      "outputs": []
    },
    {
      "cell_type": "code",
      "source": [
        "# Create Vocabulary\n",
        "\n",
        "vocab = set()\n",
        "for ques, ans in database:\n",
        "  words = re.findall(r\"\\w+\", ques) + re.findall(r\"\\w+\", ans)\n",
        "  for word in words:\n",
        "    vocab.add(word.lower())\n",
        "vocab"
      ],
      "metadata": {
        "id": "-PbMT1Js4m0l",
        "colab": {
          "base_uri": "https://localhost:8080/"
        },
        "outputId": "4e165108-4b75-4144-badc-466984dc40ea"
      },
      "execution_count": null,
      "outputs": [
        {
          "output_type": "execute_result",
          "data": {
            "text/plain": [
              "{'are',\n",
              " 'btech',\n",
              " 'by',\n",
              " 'courses',\n",
              " 'delhi',\n",
              " 'etc',\n",
              " 'in',\n",
              " 'is',\n",
              " 'jamia',\n",
              " 'jmi',\n",
              " 'located',\n",
              " 'mba',\n",
              " 'mtech',\n",
              " 'nagar',\n",
              " 'new',\n",
              " 'of',\n",
              " 'run',\n",
              " 'runs',\n",
              " 'the',\n",
              " 'what',\n",
              " 'where'}"
            ]
          },
          "metadata": {},
          "execution_count": 4
        }
      ]
    },
    {
      "cell_type": "code",
      "source": [
        "def getBOWVector(sent, vocab):\n",
        "  count_dict = {v: 0 for v in vocab}\n",
        "\n",
        "  for word in re.findall(r\"\\w+\", sent):\n",
        "    if word.lower() in count_dict:\n",
        "      count_dict[word.lower()] += 1\n",
        "\n",
        "  bow_vector = np.array([v for k,v in count_dict.items()])\n",
        "  return bow_vector\n",
        "\n",
        "def cosine_sim(a, b):\n",
        "  return np.dot(a,b)/(np.linalg.norm(a)*np.linalg.norm(b) + 1e-10)"
      ],
      "metadata": {
        "id": "mPzQXdvl8D3v"
      },
      "execution_count": null,
      "outputs": []
    },
    {
      "cell_type": "code",
      "source": [
        "def get_answer(question, database):\n",
        "  # Create BOW vectors for database questions\n",
        "  questions_bow = []\n",
        "  for ques, _ in database:\n",
        "    questions_bow.append(getBOWVector(ques, vocab))\n",
        "\n",
        "  cur_q_bow = getBOWVector(question, vocab)\n",
        "  print(cur_q_bow)\n",
        "  # Compute cosine similiarty with existing questions in database\n",
        "  similarities = []\n",
        "  for ques_bow in questions_bow:\n",
        "    similarities.append(cosine_sim(cur_q_bow, ques_bow))\n",
        "\n",
        "  # return answer for question with max similarity\n",
        "  return database[np.argmax(similarities)][1]"
      ],
      "metadata": {
        "id": "ByBUjpVeAlTQ"
      },
      "execution_count": null,
      "outputs": []
    },
    {
      "cell_type": "code",
      "source": [
        "print(\"Welcome to Simple QA chatbot\")\n",
        "print(\"Enter 'exit' to end session\")\n",
        "while True:\n",
        "  new_question = str(input(\"\\nQuestion: \"))\n",
        "  if new_question == \"exit\":\n",
        "    print(\"Goodbye :)\")\n",
        "    break\n",
        "  print(\"Answer:\",get_answer(new_question, database))"
      ],
      "metadata": {
        "colab": {
          "base_uri": "https://localhost:8080/"
        },
        "id": "FXQAPHmb594s",
        "outputId": "c4f46fd8-7300-4c5d-910a-c91bc7cfdfa5"
      },
      "execution_count": null,
      "outputs": [
        {
          "output_type": "stream",
          "name": "stdout",
          "text": [
            "Welcome to Simple QA chatbot\n",
            "Enter 'exit' to end session\n",
            "\n",
            "Question: Which course is best?\n",
            "[0 0 0 0 0 0 0 0 0 0 0 1 0 0 0 0 0 0 0 0 0]\n",
            "Answer: JMI is located in Jamia Nagar, New Delhi.\n",
            "\n",
            "Question: Which couses is best?\n",
            "[0 0 0 0 0 0 0 0 0 0 0 1 0 0 0 0 0 0 0 0 0]\n",
            "Answer: JMI is located in Jamia Nagar, New Delhi.\n",
            "\n",
            "Question: Which courses is best?\n",
            "[0 0 0 0 0 0 0 0 0 0 0 1 0 0 0 0 1 0 0 0 0]\n",
            "Answer: JMI is located in Jamia Nagar, New Delhi.\n",
            "\n",
            "Question: Which courses in JMI?\n",
            "[0 1 0 0 0 0 0 0 0 0 1 0 0 0 0 0 1 0 0 0 0]\n",
            "Answer: JMI runs the courses of BTech, MTech, MBA, etc.\n"
          ]
        }
      ]
    },
    {
      "cell_type": "code",
      "source": [],
      "metadata": {
        "id": "jU6kEH7fGaZ7"
      },
      "execution_count": null,
      "outputs": []
    }
  ]
}