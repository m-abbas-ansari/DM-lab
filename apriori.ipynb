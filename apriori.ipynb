{
 "cells": [
  {
   "cell_type": "code",
   "execution_count": 1,
   "metadata": {},
   "outputs": [],
   "source": [
    "data = [\n",
    "    (100, [\"1\", \"2\", \"5\"]),\n",
    "    (200, [\"2\", \"4\"]),\n",
    "    (300, [\"2\", \"3\"]),\n",
    "    (400, [\"1\", \"2\", \"4\"]),\n",
    "    (500, [\"1\", \"3\"]),\n",
    "    (600, [\"2\", \"3\"]),\n",
    "    (700, [\"1\", \"3\"]),\n",
    "    (800, [\"1\", \"2\", \"3\", \"5\"]),\n",
    "    (900, [\"1\", \"2\", \"3\"])\n",
    "]\n",
    "\n",
    "all_items = [\"1\", \"2\", \"3\", \"4\", \"5\"]"
   ]
  },
  {
   "cell_type": "code",
   "execution_count": 2,
   "metadata": {},
   "outputs": [],
   "source": [
    "min_support = 2 "
   ]
  },
  {
   "cell_type": "code",
   "execution_count": 11,
   "metadata": {},
   "outputs": [],
   "source": [
    "\n",
    "# find frequent 1-itemsets in D\n",
    "C1 = {i: 0 for i in all_items}\n",
    "for tid, trans in data:\n",
    "    for item in all_items:\n",
    "        if item in trans:\n",
    "            C1[item] += 1\n",
    "\n",
    "L1 = {item: count for item, count in C1.items() if count >= min_support}"
   ]
  },
  {
   "cell_type": "code",
   "execution_count": 60,
   "metadata": {},
   "outputs": [],
   "source": [
    "def has_infrequent_subset(c, Lk_prev):\n",
    "    for i in range(len(c)):\n",
    "        s = c[:i] + c[i+1:]\n",
    "        if s not in Lk_prev:\n",
    "            return True\n",
    "    return False\n",
    "\n",
    "def apriori_gen(Lk_prev):\n",
    "    Ck = []\n",
    "    for l1 in Lk_prev.keys():\n",
    "        for l2 in Lk_prev.keys():\n",
    "            if l1[:-1] == l2[:-1] and l1[-1] < l2[-1]:\n",
    "                c = l1 + l2[-1]\n",
    "                if not has_infrequent_subset(c, Lk_prev):\n",
    "                    Ck.append(c)\n",
    "    return Ck"
   ]
  },
  {
   "cell_type": "code",
   "execution_count": 62,
   "metadata": {},
   "outputs": [],
   "source": [
    "L_list = []\n",
    "L_list.append(L1)\n",
    "\n",
    "while len(L_list[-1]) != 0:\n",
    "    Ck = apriori_gen(L_list[-1]) \n",
    "    # print(Ck)\n",
    "    Ck = {c: 0 for c in Ck}\n",
    "    for tid, trans in data:\n",
    "        for c in Ck.keys():\n",
    "            if set(c).issubset(set(trans)):\n",
    "                Ck[c] += 1\n",
    "    Lk = {item: count for item,count in Ck.items() if count >= min_support}\n",
    "    L_list.append(Lk)"
   ]
  },
  {
   "cell_type": "code",
   "execution_count": 63,
   "metadata": {},
   "outputs": [
    {
     "data": {
      "text/plain": [
       "[{'1': 6, '2': 7, '3': 6, '4': 2, '5': 2},\n",
       " {'12': 4, '13': 4, '15': 2, '23': 4, '24': 2, '25': 2},\n",
       " {'123': 2, '125': 2},\n",
       " {}]"
      ]
     },
     "execution_count": 63,
     "metadata": {},
     "output_type": "execute_result"
    }
   ],
   "source": [
    "L_list"
   ]
  },
  {
   "cell_type": "code",
   "execution_count": 37,
   "metadata": {},
   "outputs": [
    {
     "data": {
      "text/plain": [
       "{'1', '2'}"
      ]
     },
     "execution_count": 37,
     "metadata": {},
     "output_type": "execute_result"
    }
   ],
   "source": [
    "set(c)"
   ]
  },
  {
   "cell_type": "code",
   "execution_count": 38,
   "metadata": {},
   "outputs": [
    {
     "data": {
      "text/plain": [
       "True"
      ]
     },
     "execution_count": 38,
     "metadata": {},
     "output_type": "execute_result"
    }
   ],
   "source": [
    "set(c).issubset(set(t))"
   ]
  },
  {
   "cell_type": "code",
   "execution_count": null,
   "metadata": {},
   "outputs": [],
   "source": []
  }
 ],
 "metadata": {
  "kernelspec": {
   "display_name": "Python 3",
   "language": "python",
   "name": "python3"
  },
  "language_info": {
   "codemirror_mode": {
    "name": "ipython",
    "version": 3
   },
   "file_extension": ".py",
   "mimetype": "text/x-python",
   "name": "python",
   "nbconvert_exporter": "python",
   "pygments_lexer": "ipython3",
   "version": "3.8.10"
  }
 },
 "nbformat": 4,
 "nbformat_minor": 2
}
